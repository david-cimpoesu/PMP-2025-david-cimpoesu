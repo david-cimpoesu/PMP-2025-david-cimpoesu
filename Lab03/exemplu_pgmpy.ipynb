{
 "cells": [
  {
   "cell_type": "markdown",
   "metadata": {
    "colab_type": "text",
    "id": "view-in-github"
   },
   "source": [
    "<a href=\"https://colab.research.google.com/github/Tensor-Reloaded/PMP-2024/blob/main/Lab03/exemplu_pgmpy.ipynb\" target=\"_parent\"><img src=\"https://colab.research.google.com/assets/colab-badge.svg\" alt=\"Open In Colab\"/></a>"
   ]
  },
  {
   "cell_type": "markdown",
   "metadata": {
    "id": "_dRrGo9yGu97"
   },
   "source": [
    "Un anumit produs se poate afla la vanzare (20%) cu reducere sau cu pret intreg. Cumparatorul poate avea nevoie urgenta (5%) de produsul respectiv sau nu. Cumparatorul ia decizia sa cumpere produsul dupa urmatoarele reguli:\n",
    "1. produsul este la reducere si are nevoie urgent de el -> cumperi 100%\n",
    "2. produsul este la reducere dar nu are nevoie urgent de el -> cumperi 50%\n",
    "3. fara reducere si are nevoie urgent -> cumperi 80%\n",
    "4. fara reducere si nu are nevoie urgent -> cumperi 20%\n",
    "\n",
    "Afisati probabilitatea ca cumparatorul sa fi avut nevoie urgenta de produs daca stim ca acesta a cumparat produsul.\n",
    "\n",
    "**Raspuns teoretic:**\n",
    "\n",
    "$$\n",
    "P(U=1|C=1)=\\frac{P(C=1|U=1)P(U=1)}{P(C=1|U=1)P(U=1)+P(C=1|U=0)P(U=0)}.\n",
    "$$\n",
    "Avem:\n",
    "\\begin{align*}\n",
    "P(C=1|U=1)  & =P(C=1|U=1,R=1)P(R=1)+P(C=1|U=1,R=0)P(R=0)\\\\\n",
    "& =1\\cdot0.2+0.8\\cdot0.8=0.84;\\\\\n",
    "P(C=1|U=0)  & =P(C=1|U=0,R=1)P(R=1)+P(C=1|U=0,R=0)P(R=0)\\\\\n",
    "& =0.5\\cdot0.2+0.2\\cdot0.8=0.26.\n",
    "\\end{align*}\n",
    "Deci\n",
    "$$\n",
    "P(U=1|C=1)=\\frac{0.84\\cdot0.05}{0.84\\cdot0.05+0.26\\cdot0.95}=0.14533.\n",
    "$$"
   ]
  },
  {
   "cell_type": "markdown",
   "metadata": {
    "id": "9mGxUoAgGu98"
   },
   "source": [
    "Install Graphviz: https://graphviz.org/download/\n",
    "\n",
    "(For ARM Macs: https://github.com/pygraphviz/pygraphviz/issues/398)"
   ]
  },
  {
   "cell_type": "code",
   "metadata": {
    "colab": {
     "base_uri": "https://localhost:8080/"
    },
    "collapsed": true,
    "id": "FAY8_wZWG_1y",
    "outputId": "1da09981-982f-47c6-acc5-1377428cf92d",
    "ExecuteTime": {
     "end_time": "2025-10-15T16:14:10.731494Z",
     "start_time": "2025-10-15T16:13:56.692178Z"
    }
   },
   "source": [
    "# graphviz is installed already, but need lib too\n",
    "!apt install libgraphviz-dev\n",
    "!pip install pygraphviz\n",
    "!pip install networkx\n",
    "!pip install pgmpy"
   ],
   "outputs": [
    {
     "name": "stderr",
     "output_type": "stream",
     "text": [
      "'apt' is not recognized as an internal or external command,\n",
      "operable program or batch file.\n"
     ]
    },
    {
     "name": "stdout",
     "output_type": "stream",
     "text": [
      "Requirement already satisfied: pygraphviz in c:\\users\\claud\\pycharmprojects\\pmp-2025-david-cimpoesu\\.venv\\lib\\site-packages (1.14)\n",
      "Requirement already satisfied: networkx in c:\\users\\claud\\pycharmprojects\\pmp-2025-david-cimpoesu\\.venv\\lib\\site-packages (3.5)\n",
      "Requirement already satisfied: pgmpy in c:\\users\\claud\\pycharmprojects\\pmp-2025-david-cimpoesu\\.venv\\lib\\site-packages (1.0.0)\n",
      "Requirement already satisfied: networkx in c:\\users\\claud\\pycharmprojects\\pmp-2025-david-cimpoesu\\.venv\\lib\\site-packages (from pgmpy) (3.5)\n",
      "Requirement already satisfied: numpy in c:\\users\\claud\\pycharmprojects\\pmp-2025-david-cimpoesu\\.venv\\lib\\site-packages (from pgmpy) (2.3.3)\n",
      "Requirement already satisfied: scipy in c:\\users\\claud\\pycharmprojects\\pmp-2025-david-cimpoesu\\.venv\\lib\\site-packages (from pgmpy) (1.16.2)\n",
      "Requirement already satisfied: scikit-learn in c:\\users\\claud\\pycharmprojects\\pmp-2025-david-cimpoesu\\.venv\\lib\\site-packages (from pgmpy) (1.7.2)\n",
      "Requirement already satisfied: pandas in c:\\users\\claud\\pycharmprojects\\pmp-2025-david-cimpoesu\\.venv\\lib\\site-packages (from pgmpy) (2.3.3)\n",
      "Requirement already satisfied: torch in c:\\users\\claud\\pycharmprojects\\pmp-2025-david-cimpoesu\\.venv\\lib\\site-packages (from pgmpy) (2.8.0)\n",
      "Requirement already satisfied: statsmodels in c:\\users\\claud\\pycharmprojects\\pmp-2025-david-cimpoesu\\.venv\\lib\\site-packages (from pgmpy) (0.14.5)\n",
      "Requirement already satisfied: tqdm in c:\\users\\claud\\pycharmprojects\\pmp-2025-david-cimpoesu\\.venv\\lib\\site-packages (from pgmpy) (4.67.1)\n",
      "Requirement already satisfied: joblib in c:\\users\\claud\\pycharmprojects\\pmp-2025-david-cimpoesu\\.venv\\lib\\site-packages (from pgmpy) (1.5.2)\n",
      "Requirement already satisfied: opt-einsum in c:\\users\\claud\\pycharmprojects\\pmp-2025-david-cimpoesu\\.venv\\lib\\site-packages (from pgmpy) (3.4.0)\n",
      "Requirement already satisfied: pyro-ppl in c:\\users\\claud\\pycharmprojects\\pmp-2025-david-cimpoesu\\.venv\\lib\\site-packages (from pgmpy) (1.9.1)\n",
      "Requirement already satisfied: python-dateutil>=2.8.2 in c:\\users\\claud\\pycharmprojects\\pmp-2025-david-cimpoesu\\.venv\\lib\\site-packages (from pandas->pgmpy) (2.9.0.post0)\n",
      "Requirement already satisfied: pytz>=2020.1 in c:\\users\\claud\\pycharmprojects\\pmp-2025-david-cimpoesu\\.venv\\lib\\site-packages (from pandas->pgmpy) (2025.2)\n",
      "Requirement already satisfied: tzdata>=2022.7 in c:\\users\\claud\\pycharmprojects\\pmp-2025-david-cimpoesu\\.venv\\lib\\site-packages (from pandas->pgmpy) (2025.2)\n",
      "Requirement already satisfied: six>=1.5 in c:\\users\\claud\\pycharmprojects\\pmp-2025-david-cimpoesu\\.venv\\lib\\site-packages (from python-dateutil>=2.8.2->pandas->pgmpy) (1.17.0)\n",
      "Requirement already satisfied: pyro-api>=0.1.1 in c:\\users\\claud\\pycharmprojects\\pmp-2025-david-cimpoesu\\.venv\\lib\\site-packages (from pyro-ppl->pgmpy) (0.1.2)\n",
      "Requirement already satisfied: filelock in c:\\users\\claud\\pycharmprojects\\pmp-2025-david-cimpoesu\\.venv\\lib\\site-packages (from torch->pgmpy) (3.19.1)\n",
      "Requirement already satisfied: typing-extensions>=4.10.0 in c:\\users\\claud\\pycharmprojects\\pmp-2025-david-cimpoesu\\.venv\\lib\\site-packages (from torch->pgmpy) (4.15.0)\n",
      "Requirement already satisfied: sympy>=1.13.3 in c:\\users\\claud\\pycharmprojects\\pmp-2025-david-cimpoesu\\.venv\\lib\\site-packages (from torch->pgmpy) (1.14.0)\n",
      "Requirement already satisfied: jinja2 in c:\\users\\claud\\pycharmprojects\\pmp-2025-david-cimpoesu\\.venv\\lib\\site-packages (from torch->pgmpy) (3.1.6)\n",
      "Requirement already satisfied: fsspec in c:\\users\\claud\\pycharmprojects\\pmp-2025-david-cimpoesu\\.venv\\lib\\site-packages (from torch->pgmpy) (2025.9.0)\n",
      "Requirement already satisfied: setuptools in c:\\users\\claud\\pycharmprojects\\pmp-2025-david-cimpoesu\\.venv\\lib\\site-packages (from torch->pgmpy) (80.9.0)\n",
      "Requirement already satisfied: mpmath<1.4,>=1.1.0 in c:\\users\\claud\\pycharmprojects\\pmp-2025-david-cimpoesu\\.venv\\lib\\site-packages (from sympy>=1.13.3->torch->pgmpy) (1.3.0)\n",
      "Requirement already satisfied: colorama in c:\\users\\claud\\pycharmprojects\\pmp-2025-david-cimpoesu\\.venv\\lib\\site-packages (from tqdm->pgmpy) (0.4.6)\n",
      "Requirement already satisfied: MarkupSafe>=2.0 in c:\\users\\claud\\pycharmprojects\\pmp-2025-david-cimpoesu\\.venv\\lib\\site-packages (from jinja2->torch->pgmpy) (3.0.3)\n",
      "Requirement already satisfied: threadpoolctl>=3.1.0 in c:\\users\\claud\\pycharmprojects\\pmp-2025-david-cimpoesu\\.venv\\lib\\site-packages (from scikit-learn->pgmpy) (3.6.0)\n",
      "Requirement already satisfied: patsy>=0.5.6 in c:\\users\\claud\\pycharmprojects\\pmp-2025-david-cimpoesu\\.venv\\lib\\site-packages (from statsmodels->pgmpy) (1.0.1)\n",
      "Requirement already satisfied: packaging>=21.3 in c:\\users\\claud\\pycharmprojects\\pmp-2025-david-cimpoesu\\.venv\\lib\\site-packages (from statsmodels->pgmpy) (25.0)\n"
     ]
    }
   ],
   "execution_count": 1
  },
  {
   "cell_type": "code",
   "metadata": {
    "id": "eRDNMKYAGu98",
    "ExecuteTime": {
     "end_time": "2025-10-15T16:14:25.312227Z",
     "start_time": "2025-10-15T16:14:10.804785Z"
    }
   },
   "source": [
    "from pgmpy.models import DiscreteBayesianNetwork\n",
    "from pgmpy.factors.discrete import TabularCPD\n",
    "from pgmpy.inference import VariableElimination\n",
    "import matplotlib.pyplot as plt\n",
    "import networkx as nx"
   ],
   "outputs": [],
   "execution_count": 2
  },
  {
   "cell_type": "code",
   "metadata": {
    "id": "MbyQVxzHGu99",
    "ExecuteTime": {
     "end_time": "2025-10-15T16:14:27.324931Z",
     "start_time": "2025-10-15T16:14:27.308636Z"
    }
   },
   "source": [
    "# Defining the model structure. We can define the network by just passing a list of edges.\n",
    "model = DiscreteBayesianNetwork([('R', 'C'), ('U', 'C')])\n",
    "\n",
    "# Defining individual CPDs.\n",
    "cpd_r = TabularCPD(variable='R', variable_card=2, values=[[0.8], [0.2]]) # R=0 full price, R=1 discount\n",
    "cpd_u = TabularCPD(variable='U', variable_card=2, values=[[0.95], [0.05]]) # U=0 no urgent need, U=1 urgent need\n",
    "\n",
    "# The CPD for C is defined using the conditional probabilities based on U and R\n",
    "cpd_c = TabularCPD(variable='C', variable_card=2,\n",
    "                   values=[[0.8, 0.5, 0.2, 0.0],\n",
    "                           [0.2, 0.5, 0.8, 1.0]],\n",
    "                  evidence=['U', 'R'],\n",
    "                  evidence_card=[2, 2])\n",
    "\n",
    "# Associating the CPDs with the network\n",
    "model.add_cpds(cpd_r, cpd_u, cpd_c)"
   ],
   "outputs": [],
   "execution_count": 3
  },
  {
   "cell_type": "code",
   "metadata": {
    "id": "FuiFkWhVGu99",
    "ExecuteTime": {
     "end_time": "2025-10-15T16:14:27.366785Z",
     "start_time": "2025-10-15T16:14:27.358863Z"
    }
   },
   "source": [
    "# Verifying the model\n",
    "assert model.check_model()"
   ],
   "outputs": [],
   "execution_count": 4
  },
  {
   "cell_type": "code",
   "metadata": {
    "colab": {
     "base_uri": "https://localhost:8080/",
     "height": 641
    },
    "id": "mIT60hXMGu99",
    "outputId": "4aea93ea-26f6-4957-dba3-61a59220c57c",
    "ExecuteTime": {
     "end_time": "2025-10-15T16:14:27.924980Z",
     "start_time": "2025-10-15T16:14:27.703162Z"
    }
   },
   "source": [
    "# Performing exact inference using Variable Elimination\n",
    "infer = VariableElimination(model)\n",
    "result = infer.query(variables=['U'], evidence={'C': 1})\n",
    "print(result)\n",
    "\n",
    "pos = nx.circular_layout(model)\n",
    "nx.draw(model, pos=pos, with_labels=True, node_size=4000, font_weight='bold', node_color='skyblue')\n",
    "plt.show()\n"
   ],
   "outputs": [
    {
     "name": "stdout",
     "output_type": "stream",
     "text": [
      "+------+----------+\n",
      "| U    |   phi(U) |\n",
      "+======+==========+\n",
      "| U(0) |   0.8547 |\n",
      "+------+----------+\n",
      "| U(1) |   0.1453 |\n",
      "+------+----------+\n"
     ]
    },
    {
     "data": {
      "text/plain": [
       "<Figure size 640x480 with 1 Axes>"
      ],
      "image/png": "[encoded data removed]"
     },
     "metadata": {},
     "output_type": "display_data"
    }
   ],
   "execution_count": 5
  }
 ],
 "metadata": {
  "colab": {
   "include_colab_link": true,
   "provenance": []
  },
  "kernelspec": {
   "display_name": ".venv",
   "language": "python",
   "name": "python3"
  },
  "language_info": {
   "codemirror_mode": {
    "name": "ipython",
    "version": 3
   },
   "file_extension": ".py",
   "mimetype": "text/x-python",
   "name": "python",
   "nbconvert_exporter": "python",
   "pygments_lexer": "ipython3",
   "version": "3.13.5"
  }
 },
 "nbformat": 4,
 "nbformat_minor": 0
}
